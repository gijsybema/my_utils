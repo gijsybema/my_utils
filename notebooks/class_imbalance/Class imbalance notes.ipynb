{
 "cells": [
  {
   "cell_type": "markdown",
   "metadata": {},
   "source": [
    "## Check for class imbalance"
   ]
  },
  {
   "cell_type": "code",
   "execution_count": 1,
   "metadata": {},
   "outputs": [
    {
     "ename": "NameError",
     "evalue": "name 'df' is not defined",
     "output_type": "error",
     "traceback": [
      "\u001b[1;31m---------------------------------------------------------------------------\u001b[0m",
      "\u001b[1;31mNameError\u001b[0m                                 Traceback (most recent call last)",
      "\u001b[1;32md:\\User Files - gijsy\\Documents\\All files\\Statistics & Data Science\\my_utils\\notebooks\\class_imbalance\\Class imbalance notes.ipynb Cell 2'\u001b[0m in \u001b[0;36m<cell line: 1>\u001b[1;34m()\u001b[0m\n\u001b[1;32m----> <a href='vscode-notebook-cell:/d%3A/User%20Files%20-%20gijsy/Documents/All%20files/Statistics%20%26%20Data%20Science/my_utils/notebooks/class_imbalance/Class%20imbalance%20notes.ipynb#ch0000001?line=0'>1</a>\u001b[0m df[\u001b[39m'\u001b[39m\u001b[39mChurn\u001b[39m\u001b[39m'\u001b[39m]\u001b[39m.\u001b[39mvalue_counts()\n",
      "\u001b[1;31mNameError\u001b[0m: name 'df' is not defined"
     ]
    }
   ],
   "source": [
    "df['Churn'].value_counts()"
   ]
  },
  {
   "cell_type": "markdown",
   "metadata": {},
   "source": [
    "#### Er is een vrij grote class imbalance\n",
    "Ongeveer 92 procent van de klanten is niet gechurnd, en 8 procent is wel gechurnd  \n",
    "Oplossing: undersample de category Nee  "
   ]
  },
  {
   "cell_type": "markdown",
   "metadata": {},
   "source": [
    "### Oplossing: Undersamplen van meest voorkomende label "
   ]
  },
  {
   "cell_type": "markdown",
   "metadata": {},
   "source": [
    "### Oplossing 1: \n",
    "https://www.migarage.ai/intelligence/imbalanced-data/"
   ]
  },
  {
   "cell_type": "code",
   "execution_count": 2,
   "metadata": {},
   "outputs": [
    {
     "ename": "NameError",
     "evalue": "name 'df' is not defined",
     "output_type": "error",
     "traceback": [
      "\u001b[1;31m---------------------------------------------------------------------------\u001b[0m",
      "\u001b[1;31mNameError\u001b[0m                                 Traceback (most recent call last)",
      "\u001b[1;32md:\\User Files - gijsy\\Documents\\All files\\Statistics & Data Science\\my_utils\\notebooks\\class_imbalance\\Class imbalance notes.ipynb Cell 6'\u001b[0m in \u001b[0;36m<cell line: 1>\u001b[1;34m()\u001b[0m\n\u001b[1;32m----> <a href='vscode-notebook-cell:/d%3A/User%20Files%20-%20gijsy/Documents/All%20files/Statistics%20%26%20Data%20Science/my_utils/notebooks/class_imbalance/Class%20imbalance%20notes.ipynb#ch0000005?line=0'>1</a>\u001b[0m df\u001b[39m.\u001b[39mloc[:,\u001b[39m'\u001b[39m\u001b[39mChurn\u001b[39m\u001b[39m'\u001b[39m]\u001b[39m.\u001b[39mvalue_counts()\n",
      "\u001b[1;31mNameError\u001b[0m: name 'df' is not defined"
     ]
    }
   ],
   "source": [
    "df.loc[:,'Churn'].value_counts()"
   ]
  },
  {
   "cell_type": "code",
   "execution_count": null,
   "metadata": {},
   "outputs": [],
   "source": [
    "# Maak 2 variabelen voor Class count\n",
    "# target 1 is 'Nee', target 0 is 'Ja'\n",
    "target_1_count, target_0_count = df.loc[:,'Churn'].value_counts()\n",
    "target_1_label, target_0_label = df.loc[:,'Churn'].value_counts().index.to_list()"
   ]
  },
  {
   "cell_type": "code",
   "execution_count": null,
   "metadata": {},
   "outputs": [],
   "source": [
    "# Seperate classes\n",
    "target_1 = df[df['Churn'] == target_1_label]\n",
    "target_0 = df[df['Churn'] == target_0_label]"
   ]
  },
  {
   "cell_type": "code",
   "execution_count": null,
   "metadata": {},
   "outputs": [],
   "source": [
    "# Resample target1 to match target 0 count\n",
    "# https://pandas.pydata.org/pandas-docs/stable/reference/api/pandas.DataFrame.sample.html\n",
    "target_1_undersampled = target_1.sample(n = target_0_count, random_state = 33)"
   ]
  },
  {
   "cell_type": "code",
   "execution_count": null,
   "metadata": {},
   "outputs": [],
   "source": [
    "# Merge back to single df\n",
    "train_undersampled = pd.concat([target_1_undersampled, target_0], axis=0)"
   ]
  },
  {
   "cell_type": "code",
   "execution_count": null,
   "metadata": {},
   "outputs": [
    {
     "data": {
      "text/plain": [
       "(12538, 11)"
      ]
     },
     "execution_count": 323,
     "metadata": {},
     "output_type": "execute_result"
    }
   ],
   "source": [
    "train_undersampled.shape"
   ]
  },
  {
   "cell_type": "code",
   "execution_count": 3,
   "metadata": {},
   "outputs": [
    {
     "name": "stdout",
     "output_type": "stream",
     "text": [
      "Random under-sampling:\n"
     ]
    },
    {
     "ename": "NameError",
     "evalue": "name 'train_undersampled' is not defined",
     "output_type": "error",
     "traceback": [
      "\u001b[1;31m---------------------------------------------------------------------------\u001b[0m",
      "\u001b[1;31mNameError\u001b[0m                                 Traceback (most recent call last)",
      "\u001b[1;32md:\\User Files - gijsy\\Documents\\All files\\Statistics & Data Science\\my_utils\\notebooks\\class_imbalance\\Class imbalance notes.ipynb Cell 12'\u001b[0m in \u001b[0;36m<cell line: 3>\u001b[1;34m()\u001b[0m\n\u001b[0;32m      <a href='vscode-notebook-cell:/d%3A/User%20Files%20-%20gijsy/Documents/All%20files/Statistics%20%26%20Data%20Science/my_utils/notebooks/class_imbalance/Class%20imbalance%20notes.ipynb#ch0000011?line=0'>1</a>\u001b[0m \u001b[39m# Show counts and plot\u001b[39;00m\n\u001b[0;32m      <a href='vscode-notebook-cell:/d%3A/User%20Files%20-%20gijsy/Documents/All%20files/Statistics%20%26%20Data%20Science/my_utils/notebooks/class_imbalance/Class%20imbalance%20notes.ipynb#ch0000011?line=1'>2</a>\u001b[0m \u001b[39mprint\u001b[39m(\u001b[39m'\u001b[39m\u001b[39mRandom under-sampling:\u001b[39m\u001b[39m'\u001b[39m)\n\u001b[1;32m----> <a href='vscode-notebook-cell:/d%3A/User%20Files%20-%20gijsy/Documents/All%20files/Statistics%20%26%20Data%20Science/my_utils/notebooks/class_imbalance/Class%20imbalance%20notes.ipynb#ch0000011?line=2'>3</a>\u001b[0m \u001b[39mprint\u001b[39m(train_undersampled[\u001b[39m'\u001b[39m\u001b[39mChurn\u001b[39m\u001b[39m'\u001b[39m]\u001b[39m.\u001b[39mvalue_counts())\n\u001b[0;32m      <a href='vscode-notebook-cell:/d%3A/User%20Files%20-%20gijsy/Documents/All%20files/Statistics%20%26%20Data%20Science/my_utils/notebooks/class_imbalance/Class%20imbalance%20notes.ipynb#ch0000011?line=3'>4</a>\u001b[0m train_undersampled[\u001b[39m'\u001b[39m\u001b[39mChurn\u001b[39m\u001b[39m'\u001b[39m]\u001b[39m.\u001b[39mvalue_counts()\u001b[39m.\u001b[39mplot(kind\u001b[39m=\u001b[39m\u001b[39m'\u001b[39m\u001b[39mbar\u001b[39m\u001b[39m'\u001b[39m, title\u001b[39m=\u001b[39m\u001b[39m'\u001b[39m\u001b[39mCount (target)\u001b[39m\u001b[39m'\u001b[39m)\n",
      "\u001b[1;31mNameError\u001b[0m: name 'train_undersampled' is not defined"
     ]
    }
   ],
   "source": [
    "# Show counts and plot\n",
    "print('Random under-sampling:')\n",
    "print(train_undersampled['Churn'].value_counts())\n",
    "train_undersampled['Churn'].value_counts().plot(kind='bar', title='Count (target)')"
   ]
  },
  {
   "cell_type": "markdown",
   "metadata": {},
   "source": [
    "### Oplossing 2: imblearn package\n",
    "  \n",
    "https://www.kaggle.com/residentmario/undersampling-and-oversampling-imbalanced-data\n",
    "\n",
    "Moeilijkheid zit erin dat deze oplossing met arrays werkt\n"
   ]
  },
  {
   "cell_type": "code",
   "execution_count": null,
   "metadata": {},
   "outputs": [],
   "source": [
    "# Split data in X (features) en y (labels)\n",
    "X, y = df.drop('Churn', axis=1), df['Churn']"
   ]
  },
  {
   "cell_type": "code",
   "execution_count": null,
   "metadata": {},
   "outputs": [],
   "source": [
    "from imblearn.under_sampling import RandomUnderSampler"
   ]
  },
  {
   "cell_type": "code",
   "execution_count": null,
   "metadata": {},
   "outputs": [],
   "source": [
    "rus = RandomUnderSampler(random_state=0)"
   ]
  },
  {
   "cell_type": "code",
   "execution_count": null,
   "metadata": {},
   "outputs": [
    {
     "data": {
      "text/plain": [
       "RandomUnderSampler(random_state=0, ratio=None, replacement=False,\n",
       "                   return_indices=False, sampling_strategy='auto')"
      ]
     },
     "execution_count": 238,
     "metadata": {},
     "output_type": "execute_result"
    }
   ],
   "source": [
    "rus.fit(X, y)"
   ]
  },
  {
   "cell_type": "code",
   "execution_count": null,
   "metadata": {},
   "outputs": [],
   "source": [
    "X_resampled, y_resampled = rus.fit_resample(X, y)"
   ]
  },
  {
   "cell_type": "code",
   "execution_count": 4,
   "metadata": {},
   "outputs": [
    {
     "ename": "NameError",
     "evalue": "name 'X_resampled' is not defined",
     "output_type": "error",
     "traceback": [
      "\u001b[1;31m---------------------------------------------------------------------------\u001b[0m",
      "\u001b[1;31mNameError\u001b[0m                                 Traceback (most recent call last)",
      "\u001b[1;32md:\\User Files - gijsy\\Documents\\All files\\Statistics & Data Science\\my_utils\\notebooks\\class_imbalance\\Class imbalance notes.ipynb Cell 19'\u001b[0m in \u001b[0;36m<cell line: 1>\u001b[1;34m()\u001b[0m\n\u001b[1;32m----> <a href='vscode-notebook-cell:/d%3A/User%20Files%20-%20gijsy/Documents/All%20files/Statistics%20%26%20Data%20Science/my_utils/notebooks/class_imbalance/Class%20imbalance%20notes.ipynb#ch0000018?line=0'>1</a>\u001b[0m X_resampled\u001b[39m.\u001b[39mshape\n",
      "\u001b[1;31mNameError\u001b[0m: name 'X_resampled' is not defined"
     ]
    }
   ],
   "source": [
    "X_resampled.shape"
   ]
  },
  {
   "cell_type": "code",
   "execution_count": 5,
   "metadata": {},
   "outputs": [
    {
     "ename": "NameError",
     "evalue": "name 'y_resampled' is not defined",
     "output_type": "error",
     "traceback": [
      "\u001b[1;31m---------------------------------------------------------------------------\u001b[0m",
      "\u001b[1;31mNameError\u001b[0m                                 Traceback (most recent call last)",
      "\u001b[1;32md:\\User Files - gijsy\\Documents\\All files\\Statistics & Data Science\\my_utils\\notebooks\\class_imbalance\\Class imbalance notes.ipynb Cell 20'\u001b[0m in \u001b[0;36m<cell line: 1>\u001b[1;34m()\u001b[0m\n\u001b[1;32m----> <a href='vscode-notebook-cell:/d%3A/User%20Files%20-%20gijsy/Documents/All%20files/Statistics%20%26%20Data%20Science/my_utils/notebooks/class_imbalance/Class%20imbalance%20notes.ipynb#ch0000019?line=0'>1</a>\u001b[0m y_resampled\u001b[39m.\u001b[39mshape\n",
      "\u001b[1;31mNameError\u001b[0m: name 'y_resampled' is not defined"
     ]
    }
   ],
   "source": [
    "y_resampled.shape"
   ]
  },
  {
   "cell_type": "code",
   "execution_count": 6,
   "metadata": {},
   "outputs": [
    {
     "ename": "NameError",
     "evalue": "name 'np' is not defined",
     "output_type": "error",
     "traceback": [
      "\u001b[1;31m---------------------------------------------------------------------------\u001b[0m",
      "\u001b[1;31mNameError\u001b[0m                                 Traceback (most recent call last)",
      "\u001b[1;32md:\\User Files - gijsy\\Documents\\All files\\Statistics & Data Science\\my_utils\\notebooks\\class_imbalance\\Class imbalance notes.ipynb Cell 21'\u001b[0m in \u001b[0;36m<cell line: 1>\u001b[1;34m()\u001b[0m\n\u001b[1;32m----> <a href='vscode-notebook-cell:/d%3A/User%20Files%20-%20gijsy/Documents/All%20files/Statistics%20%26%20Data%20Science/my_utils/notebooks/class_imbalance/Class%20imbalance%20notes.ipynb#ch0000020?line=0'>1</a>\u001b[0m unique, counts \u001b[39m=\u001b[39m np\u001b[39m.\u001b[39munique(y_resampled, return_counts\u001b[39m=\u001b[39m\u001b[39mTrue\u001b[39;00m)\n\u001b[0;32m      <a href='vscode-notebook-cell:/d%3A/User%20Files%20-%20gijsy/Documents/All%20files/Statistics%20%26%20Data%20Science/my_utils/notebooks/class_imbalance/Class%20imbalance%20notes.ipynb#ch0000020?line=1'>2</a>\u001b[0m \u001b[39mdict\u001b[39m(\u001b[39mzip\u001b[39m(unique, counts))\n",
      "\u001b[1;31mNameError\u001b[0m: name 'np' is not defined"
     ]
    }
   ],
   "source": [
    "unique, counts = np.unique(y_resampled, return_counts=True)\n",
    "dict(zip(unique, counts))"
   ]
  },
  {
   "cell_type": "code",
   "execution_count": null,
   "metadata": {},
   "outputs": [],
   "source": []
  },
  {
   "cell_type": "code",
   "execution_count": null,
   "metadata": {},
   "outputs": [],
   "source": []
  }
 ],
 "metadata": {
  "kernelspec": {
   "display_name": "Python 3",
   "language": "python",
   "name": "python3"
  },
  "language_info": {
   "codemirror_mode": {
    "name": "ipython",
    "version": 3
   },
   "file_extension": ".py",
   "mimetype": "text/x-python",
   "name": "python",
   "nbconvert_exporter": "python",
   "pygments_lexer": "ipython3",
   "version": "3.9.5"
  }
 },
 "nbformat": 4,
 "nbformat_minor": 2
}
